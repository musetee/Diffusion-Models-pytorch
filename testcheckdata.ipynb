{
 "cells": [
  {
   "cell_type": "code",
   "execution_count": 1,
   "metadata": {},
   "outputs": [
    {
     "name": "stdout",
     "output_type": "stream",
     "text": [
      "NVIDIA RTX A6000\n",
      "zscore normalization\n",
      "all files in dataset: 180\n",
      "center crop: 20\n"
     ]
    },
    {
     "name": "stderr",
     "output_type": "stream",
     "text": [
      "e:\\Projects\\yang_proj\\torch\\venv\\lib\\site-packages\\monai\\utils\\deprecate_utils.py:321: FutureWarning: monai.transforms.io.dictionary LoadImaged.__init__:image_only: Current default value of argument `image_only=False` has been deprecated since version 1.1. It will be changed to `image_only=True` in version 1.3.\n",
      "  warn_deprecated(argname, msg, warning_category)\n"
     ]
    },
    {
     "name": "stdout",
     "output_type": "stream",
     "text": [
      "total slices in training set: 20\n",
      "total batches in training set: 5\n"
     ]
    },
    {
     "ename": "KeyboardInterrupt",
     "evalue": "",
     "output_type": "error",
     "traceback": [
      "\u001b[1;31m---------------------------------------------------------------------------\u001b[0m",
      "\u001b[1;31mKeyboardInterrupt\u001b[0m                         Traceback (most recent call last)",
      "Cell \u001b[1;32mIn[1], line 29\u001b[0m\n\u001b[0;32m     26\u001b[0m train_loader,batch_number,val_loader,train_transforms\u001b[39m=\u001b[39msetupdata(args)\n\u001b[0;32m     27\u001b[0m logs_name\u001b[39m=\u001b[39m\u001b[39mf\u001b[39m\u001b[39m'\u001b[39m\u001b[39m./logs/\u001b[39m\u001b[39m{\u001b[39;00margs\u001b[39m.\u001b[39mrun_name\u001b[39m}\u001b[39;00m\u001b[39m'\u001b[39m\t\n\u001b[1;32m---> 29\u001b[0m checkdata(val_loader)\n",
      "File \u001b[1;32me:\\Projects\\yang_proj\\Diffusion-Models-pytorch\\ddpm_mri2ct.py:83\u001b[0m, in \u001b[0;36mcheckdata\u001b[1;34m(loader, output_for_check, save_folder)\u001b[0m\n\u001b[0;32m     81\u001b[0m     ax\u001b[39m.\u001b[39mimshow(img, cmap\u001b[39m=\u001b[39m\u001b[39m'\u001b[39m\u001b[39mgray\u001b[39m\u001b[39m'\u001b[39m)\n\u001b[0;32m     82\u001b[0m     ax\u001b[39m.\u001b[39maxis(\u001b[39m'\u001b[39m\u001b[39moff\u001b[39m\u001b[39m'\u001b[39m)\n\u001b[1;32m---> 83\u001b[0m     plt\u001b[39m.\u001b[39;49mshow()\n\u001b[0;32m     84\u001b[0m \u001b[39m\u001b[39m\u001b[39m'''\u001b[39;00m\n\u001b[0;32m     85\u001b[0m \u001b[39mos.makedirs(save_folder,exist_ok=True)\u001b[39;00m\n\u001b[0;32m     86\u001b[0m \u001b[39mif output_for_check == 1:\u001b[39;00m\n\u001b[1;32m   (...)\u001b[0m\n\u001b[0;32m     94\u001b[0m \u001b[39m\u001b[39;00m\n\u001b[0;32m     95\u001b[0m \u001b[39m'''\u001b[39;00m\n\u001b[0;32m     96\u001b[0m \u001b[39m\u001b[39m\u001b[39m'''\u001b[39;00m\n\u001b[0;32m     97\u001b[0m \u001b[39mwith open(f'{save_folder}/parameter.txt', 'a') as f:\u001b[39;00m\n\u001b[0;32m     98\u001b[0m \u001b[39m    f.write('image batch:' + str(images.shape)+'\\n')\u001b[39;00m\n\u001b[0;32m     99\u001b[0m \u001b[39m    f.write('label batch:' + str(labels)+'\\n')\u001b[39;00m\n\u001b[0;32m    100\u001b[0m \u001b[39m    f.write('\\n')\u001b[39;00m\n\u001b[0;32m    101\u001b[0m \u001b[39m'''\u001b[39;00m\n",
      "File \u001b[1;32me:\\Projects\\yang_proj\\torch\\venv\\lib\\site-packages\\matplotlib\\pyplot.py:446\u001b[0m, in \u001b[0;36mshow\u001b[1;34m(*args, **kwargs)\u001b[0m\n\u001b[0;32m    402\u001b[0m \u001b[39m\u001b[39m\u001b[39m\"\"\"\u001b[39;00m\n\u001b[0;32m    403\u001b[0m \u001b[39mDisplay all open figures.\u001b[39;00m\n\u001b[0;32m    404\u001b[0m \n\u001b[1;32m   (...)\u001b[0m\n\u001b[0;32m    443\u001b[0m \u001b[39mexplicitly there.\u001b[39;00m\n\u001b[0;32m    444\u001b[0m \u001b[39m\"\"\"\u001b[39;00m\n\u001b[0;32m    445\u001b[0m _warn_if_gui_out_of_main_thread()\n\u001b[1;32m--> 446\u001b[0m \u001b[39mreturn\u001b[39;00m _get_backend_mod()\u001b[39m.\u001b[39;49mshow(\u001b[39m*\u001b[39;49margs, \u001b[39m*\u001b[39;49m\u001b[39m*\u001b[39;49mkwargs)\n",
      "File \u001b[1;32me:\\Projects\\yang_proj\\torch\\venv\\lib\\site-packages\\matplotlib\\backend_bases.py:3620\u001b[0m, in \u001b[0;36m_Backend.show\u001b[1;34m(cls, block)\u001b[0m\n\u001b[0;32m   3618\u001b[0m     block \u001b[39m=\u001b[39m \u001b[39mnot\u001b[39;00m ipython_pylab \u001b[39mand\u001b[39;00m \u001b[39mnot\u001b[39;00m is_interactive()\n\u001b[0;32m   3619\u001b[0m \u001b[39mif\u001b[39;00m block:\n\u001b[1;32m-> 3620\u001b[0m     \u001b[39mcls\u001b[39;49m\u001b[39m.\u001b[39;49mmainloop()\n",
      "File \u001b[1;32me:\\Projects\\yang_proj\\torch\\venv\\lib\\site-packages\\matplotlib\\backends\\backend_qt.py:603\u001b[0m, in \u001b[0;36mFigureManagerQT.start_main_loop\u001b[1;34m(cls)\u001b[0m\n\u001b[0;32m    601\u001b[0m \u001b[39mif\u001b[39;00m qapp:\n\u001b[0;32m    602\u001b[0m     \u001b[39mwith\u001b[39;00m _maybe_allow_interrupt(qapp):\n\u001b[1;32m--> 603\u001b[0m         qt_compat\u001b[39m.\u001b[39m_exec(qapp)\n",
      "File \u001b[1;32mC:\\Program Files\\Python38\\lib\\contextlib.py:120\u001b[0m, in \u001b[0;36m_GeneratorContextManager.__exit__\u001b[1;34m(self, type, value, traceback)\u001b[0m\n\u001b[0;32m    118\u001b[0m \u001b[39mif\u001b[39;00m \u001b[39mtype\u001b[39m \u001b[39mis\u001b[39;00m \u001b[39mNone\u001b[39;00m:\n\u001b[0;32m    119\u001b[0m     \u001b[39mtry\u001b[39;00m:\n\u001b[1;32m--> 120\u001b[0m         \u001b[39mnext\u001b[39;49m(\u001b[39mself\u001b[39;49m\u001b[39m.\u001b[39;49mgen)\n\u001b[0;32m    121\u001b[0m     \u001b[39mexcept\u001b[39;00m \u001b[39mStopIteration\u001b[39;00m:\n\u001b[0;32m    122\u001b[0m         \u001b[39mreturn\u001b[39;00m \u001b[39mFalse\u001b[39;00m\n",
      "File \u001b[1;32me:\\Projects\\yang_proj\\torch\\venv\\lib\\site-packages\\matplotlib\\backends\\qt_compat.py:245\u001b[0m, in \u001b[0;36m_maybe_allow_interrupt\u001b[1;34m(qapp)\u001b[0m\n\u001b[0;32m    243\u001b[0m signal\u001b[39m.\u001b[39msignal(signal\u001b[39m.\u001b[39mSIGINT, old_sigint_handler)\n\u001b[0;32m    244\u001b[0m \u001b[39mif\u001b[39;00m handler_args \u001b[39mis\u001b[39;00m \u001b[39mnot\u001b[39;00m \u001b[39mNone\u001b[39;00m:\n\u001b[1;32m--> 245\u001b[0m     old_sigint_handler(\u001b[39m*\u001b[39;49mhandler_args)\n",
      "\u001b[1;31mKeyboardInterrupt\u001b[0m: "
     ]
    }
   ],
   "source": [
    "from ddpm_mri2ct import checkdata, setupdata\n",
    "import argparse\n",
    "import torch\n",
    "\n",
    "parser = argparse.ArgumentParser()\n",
    "args, unknown  = parser.parse_known_args()\n",
    "args.GPU_ID=0\n",
    "args.device = f'cuda:{args.GPU_ID}' if torch.cuda.is_available() else 'cpu' # 0=TitanXP, 1=P5000\n",
    "args.dataset_path=r\"E:\\Projects\\yang_proj\\Task1\\pelvis\"\n",
    "args.run_name=\"DDPM\"\n",
    "args.n_epochs=50\n",
    "args.val_interval=5\n",
    "args.train_number=1\n",
    "args.normalize=\"zscore\"\n",
    "args.pad=\"minimum\"\n",
    "args.val_number=1\n",
    "args.center_crop=20\n",
    "args.batch_size=4\n",
    "args.image_size=512\n",
    "args.pretrained_path=None\n",
    "args.lr=2.5e-5\n",
    "args.num_train_timesteps=1000\n",
    "args.num_inference_steps=1000\n",
    "\n",
    "print(torch.cuda.get_device_name(args.GPU_ID))\n",
    "train_loader,batch_number,val_loader,train_transforms=setupdata(args)\n",
    "logs_name=f'./logs/{args.run_name}'\t\n",
    "\n",
    "checkdata(val_loader)"
   ]
  }
 ],
 "metadata": {
  "kernelspec": {
   "display_name": "venv",
   "language": "python",
   "name": "python3"
  },
  "language_info": {
   "codemirror_mode": {
    "name": "ipython",
    "version": 3
   },
   "file_extension": ".py",
   "mimetype": "text/x-python",
   "name": "python",
   "nbconvert_exporter": "python",
   "pygments_lexer": "ipython3",
   "version": "3.8.10"
  },
  "orig_nbformat": 4
 },
 "nbformat": 4,
 "nbformat_minor": 2
}
